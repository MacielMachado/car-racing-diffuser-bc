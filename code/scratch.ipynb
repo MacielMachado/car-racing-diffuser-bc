{
 "cells": [
  {
   "cell_type": "code",
   "execution_count": 7,
   "metadata": {},
   "outputs": [],
   "source": [
    "import numpy as np\n",
    "import os"
   ]
  },
  {
   "cell_type": "code",
   "execution_count": 8,
   "metadata": {},
   "outputs": [
    {
     "data": {
      "text/plain": [
       "'/home/casa/projects/bruno/car-racing-diffuser-bc/code'"
      ]
     },
     "execution_count": 8,
     "metadata": {},
     "output_type": "execute_result"
    }
   ],
   "source": [
    "os.getcwd()"
   ]
  },
  {
   "cell_type": "code",
   "execution_count": 9,
   "metadata": {},
   "outputs": [],
   "source": [
    "path = '/home/casa/projects/bruno/datasets/car-racing/human_dataset/tutorial_human_expert_0/'\n",
    "states = np.load(path+'states.npy')\n",
    "actions = np.load(path+'actions.npy')\n",
    "rewards = np.load(path+'rewards.npy')"
   ]
  },
  {
   "cell_type": "code",
   "execution_count": 10,
   "metadata": {},
   "outputs": [
    {
     "data": {
      "text/plain": [
       "20"
      ]
     },
     "execution_count": 10,
     "metadata": {},
     "output_type": "execute_result"
    }
   ],
   "source": [
    "rewards[:,1]\n",
    "indices = np.argpartition(rewards[:,1], -20)[-20:]\n",
    "highest_values = rewards[indices,0]\n",
    "len(rewards[indices])"
   ]
  },
  {
   "cell_type": "code",
   "execution_count": 11,
   "metadata": {},
   "outputs": [],
   "source": [
    "def subdivide_array(array, division_indices, highest_values):\n",
    "    # Inicialize uma lista vazia para armazenar os subitens\n",
    "    subitems = np.array([])\n",
    "    division_indices = [0] + division_indices\n",
    "    # Itere sobre os índices em B para criar os subitens\n",
    "    for i in range(0, len(division_indices) - 1):\n",
    "        start_index = division_indices[i]\n",
    "        end_index = division_indices[i+1]\n",
    "        subitem = array[start_index:end_index]\n",
    "        if division_indices[i] in highest_values:\n",
    "            if len(subitems) == 0:\n",
    "                subitems = subitem\n",
    "                continue\n",
    "            subitems = np.append(subitems, subitem, axis=0)\n",
    "    return subitems"
   ]
  },
  {
   "cell_type": "code",
   "execution_count": 12,
   "metadata": {},
   "outputs": [],
   "source": [
    "filtered_states = subdivide_array(states, rewards[:,0], highest_values)\n",
    "filtered_actions = subdivide_array(actions, rewards[:,0], highest_values)"
   ]
  },
  {
   "cell_type": "code",
   "execution_count": 13,
   "metadata": {},
   "outputs": [],
   "source": [
    "import os\n",
    "path_to_save = '/home/casa/projects/bruno/datasets/car-racing/human_dataset/tutorial_human_expert_0_h20/'\n",
    "os.makedirs(path_to_save, exist_ok=True)"
   ]
  },
  {
   "cell_type": "code",
   "execution_count": 14,
   "metadata": {},
   "outputs": [],
   "source": [
    "import numpy as np\n",
    "np.save(path_to_save+'actions.npy', filtered_actions)\n",
    "np.save(path_to_save+'states.npy', filtered_states)"
   ]
  }
 ],
 "metadata": {
  "kernelspec": {
   "display_name": "car-racing-diffuser-bc",
   "language": "python",
   "name": "python3"
  },
  "language_info": {
   "codemirror_mode": {
    "name": "ipython",
    "version": 3
   },
   "file_extension": ".py",
   "mimetype": "text/x-python",
   "name": "python",
   "nbconvert_exporter": "python",
   "pygments_lexer": "ipython3",
   "version": "3.9.16"
  },
  "orig_nbformat": 4
 },
 "nbformat": 4,
 "nbformat_minor": 2
}
